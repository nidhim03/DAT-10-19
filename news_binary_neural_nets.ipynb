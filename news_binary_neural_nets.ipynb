{
  "nbformat": 4,
  "nbformat_minor": 0,
  "metadata": {
    "colab": {
      "name": "news_binary_neural_nets.ipynb",
      "provenance": [],
      "authorship_tag": "ABX9TyOpZtaLRJdb0PyIcAQAOXAh",
      "include_colab_link": true
    },
    "kernelspec": {
      "name": "python3",
      "display_name": "Python 3"
    },
    "language_info": {
      "name": "python"
    }
  },
  "cells": [
    {
      "cell_type": "markdown",
      "metadata": {
        "id": "view-in-github",
        "colab_type": "text"
      },
      "source": [
        "<a href=\"https://colab.research.google.com/github/nidhim03/DAT-10-19/blob/main/news_binary_neural_nets.ipynb\" target=\"_parent\"><img src=\"https://colab.research.google.com/assets/colab-badge.svg\" alt=\"Open In Colab\"/></a>"
      ]
    },
    {
      "cell_type": "code",
      "metadata": {
        "id": "5sGpwLNji22Z"
      },
      "source": [
        "# the usual\n",
        "import pandas as pd\n",
        "import numpy as np\n",
        "import plotly.express as px\n",
        "\n",
        "# basic ml steps\n",
        "from sklearn.model_selection import train_test_split\n",
        "\n",
        "# nlp stuff\n",
        "\n",
        "from tensorflow.keras.preprocessing.text import Tokenizer\n",
        "from tensorflow.keras.preprocessing.sequence import pad_sequences\n",
        "\n",
        "# neural nets\n",
        "from tensorflow.keras import layers\n",
        "from tensorflow.keras.layers import Embedding, Flatten, Dense\n",
        "from tensorflow.keras.models import Sequential\n",
        "\n",
        "\n"
      ],
      "execution_count": 55,
      "outputs": []
    },
    {
      "cell_type": "code",
      "metadata": {
        "id": "BodGlMpnjQg1"
      },
      "source": [
        "raw_df=pd.read_csv(r\"/content/uci-news-aggregator.csv\")"
      ],
      "execution_count": 5,
      "outputs": []
    },
    {
      "cell_type": "code",
      "metadata": {
        "colab": {
          "base_uri": "https://localhost:8080/",
          "height": 601
        },
        "id": "DFBkwvTxjVUY",
        "outputId": "9908de1e-5d3d-4775-d16a-2d3f3e5b5c27"
      },
      "source": [
        "raw_df.head()"
      ],
      "execution_count": 6,
      "outputs": [
        {
          "output_type": "execute_result",
          "data": {
            "text/html": [
              "<div>\n",
              "<style scoped>\n",
              "    .dataframe tbody tr th:only-of-type {\n",
              "        vertical-align: middle;\n",
              "    }\n",
              "\n",
              "    .dataframe tbody tr th {\n",
              "        vertical-align: top;\n",
              "    }\n",
              "\n",
              "    .dataframe thead th {\n",
              "        text-align: right;\n",
              "    }\n",
              "</style>\n",
              "<table border=\"1\" class=\"dataframe\">\n",
              "  <thead>\n",
              "    <tr style=\"text-align: right;\">\n",
              "      <th></th>\n",
              "      <th>ID</th>\n",
              "      <th>TITLE</th>\n",
              "      <th>URL</th>\n",
              "      <th>PUBLISHER</th>\n",
              "      <th>CATEGORY</th>\n",
              "      <th>STORY</th>\n",
              "      <th>HOSTNAME</th>\n",
              "      <th>TIMESTAMP</th>\n",
              "    </tr>\n",
              "  </thead>\n",
              "  <tbody>\n",
              "    <tr>\n",
              "      <th>0</th>\n",
              "      <td>1</td>\n",
              "      <td>Fed official says weak data caused by weather,...</td>\n",
              "      <td>http://www.latimes.com/business/money/la-fi-mo...</td>\n",
              "      <td>Los Angeles Times</td>\n",
              "      <td>b</td>\n",
              "      <td>ddUyU0VZz0BRneMioxUPQVP6sIxvM</td>\n",
              "      <td>www.latimes.com</td>\n",
              "      <td>1.394470e+12</td>\n",
              "    </tr>\n",
              "    <tr>\n",
              "      <th>1</th>\n",
              "      <td>2</td>\n",
              "      <td>Fed's Charles Plosser sees high bar for change...</td>\n",
              "      <td>http://www.livemint.com/Politics/H2EvwJSK2VE6O...</td>\n",
              "      <td>Livemint</td>\n",
              "      <td>b</td>\n",
              "      <td>ddUyU0VZz0BRneMioxUPQVP6sIxvM</td>\n",
              "      <td>www.livemint.com</td>\n",
              "      <td>1.394470e+12</td>\n",
              "    </tr>\n",
              "    <tr>\n",
              "      <th>2</th>\n",
              "      <td>3</td>\n",
              "      <td>US open: Stocks fall after Fed official hints ...</td>\n",
              "      <td>http://www.ifamagazine.com/news/us-open-stocks...</td>\n",
              "      <td>IFA Magazine</td>\n",
              "      <td>b</td>\n",
              "      <td>ddUyU0VZz0BRneMioxUPQVP6sIxvM</td>\n",
              "      <td>www.ifamagazine.com</td>\n",
              "      <td>1.394470e+12</td>\n",
              "    </tr>\n",
              "    <tr>\n",
              "      <th>3</th>\n",
              "      <td>4</td>\n",
              "      <td>Fed risks falling 'behind the curve', Charles ...</td>\n",
              "      <td>http://www.ifamagazine.com/news/fed-risks-fall...</td>\n",
              "      <td>IFA Magazine</td>\n",
              "      <td>b</td>\n",
              "      <td>ddUyU0VZz0BRneMioxUPQVP6sIxvM</td>\n",
              "      <td>www.ifamagazine.com</td>\n",
              "      <td>1.394470e+12</td>\n",
              "    </tr>\n",
              "    <tr>\n",
              "      <th>4</th>\n",
              "      <td>5</td>\n",
              "      <td>Fed's Plosser: Nasty Weather Has Curbed Job Gr...</td>\n",
              "      <td>http://www.moneynews.com/Economy/federal-reser...</td>\n",
              "      <td>Moneynews</td>\n",
              "      <td>b</td>\n",
              "      <td>ddUyU0VZz0BRneMioxUPQVP6sIxvM</td>\n",
              "      <td>www.moneynews.com</td>\n",
              "      <td>1.394470e+12</td>\n",
              "    </tr>\n",
              "  </tbody>\n",
              "</table>\n",
              "</div>"
            ],
            "text/plain": [
              "   ID  ...     TIMESTAMP\n",
              "0   1  ...  1.394470e+12\n",
              "1   2  ...  1.394470e+12\n",
              "2   3  ...  1.394470e+12\n",
              "3   4  ...  1.394470e+12\n",
              "4   5  ...  1.394470e+12\n",
              "\n",
              "[5 rows x 8 columns]"
            ]
          },
          "metadata": {
            "tags": []
          },
          "execution_count": 6
        }
      ]
    },
    {
      "cell_type": "code",
      "metadata": {
        "colab": {
          "base_uri": "https://localhost:8080/"
        },
        "id": "IFozv9zylIud",
        "outputId": "a7be3a7f-1f59-4f05-a686-1fc53a56063d"
      },
      "source": [
        "raw_df.shape"
      ],
      "execution_count": 7,
      "outputs": [
        {
          "output_type": "execute_result",
          "data": {
            "text/plain": [
              "(172584, 8)"
            ]
          },
          "metadata": {
            "tags": []
          },
          "execution_count": 7
        }
      ]
    },
    {
      "cell_type": "code",
      "metadata": {
        "colab": {
          "base_uri": "https://localhost:8080/"
        },
        "id": "NfuxgesClPgR",
        "outputId": "44a1f87b-7c98-455c-d094-4495086b88d0"
      },
      "source": [
        "raw_df['CATEGORY'].value_counts()"
      ],
      "execution_count": 9,
      "outputs": [
        {
          "output_type": "execute_result",
          "data": {
            "text/plain": [
              "e    63741\n",
              "b    46720\n",
              "t    44496\n",
              "m    17627\n",
              "Name: CATEGORY, dtype: int64"
            ]
          },
          "metadata": {
            "tags": []
          },
          "execution_count": 9
        }
      ]
    },
    {
      "cell_type": "code",
      "metadata": {
        "id": "xue9UOvjlY-b"
      },
      "source": [
        ""
      ],
      "execution_count": 10,
      "outputs": []
    },
    {
      "cell_type": "markdown",
      "metadata": {
        "id": "lLBYJaHtlzbd"
      },
      "source": [
        "# Preparing a binary dataset: CATEGORY 1 (b, Business) or 0 (not business)"
      ]
    },
    {
      "cell_type": "code",
      "metadata": {
        "id": "PiPt1CqIluu4"
      },
      "source": [
        "# Create the binary classification dataset\n",
        "bin_df=raw_df\n",
        "conditions=[\n",
        "            raw_df['CATEGORY']=='b'\n",
        "]\n",
        "\n",
        "bin_df['category']=np.select(conditions, '1', '0')\n",
        "bin_df=bin_df.drop('CATEGORY',axis=1)\n",
        "\n",
        "# change datatype\n",
        "bin_df['category']=bin_df['category'].astype('int8')\n",
        "bin_df['PUBLISHER']=bin_df['PUBLISHER'].astype('str')\n",
        "\n",
        "# drop HOSTNAME (since it is basically the publisher.)\n",
        "bin_df=bin_df.drop(['HOSTNAME', 'TIMESTAMP', 'STORY','ID'],axis=1)"
      ],
      "execution_count": 195,
      "outputs": []
    },
    {
      "cell_type": "code",
      "metadata": {
        "id": "MLsspG98m70U"
      },
      "source": [
        "# basic EDA and cleanup"
      ],
      "execution_count": 44,
      "outputs": []
    },
    {
      "cell_type": "code",
      "metadata": {
        "colab": {
          "base_uri": "https://localhost:8080/"
        },
        "id": "x_qPDc8qmRrM",
        "outputId": "634a6eee-6b16-489c-d58a-d72fd19851fe"
      },
      "source": [
        "bin_df.dtypes"
      ],
      "execution_count": 196,
      "outputs": [
        {
          "output_type": "execute_result",
          "data": {
            "text/plain": [
              "TITLE        object\n",
              "URL          object\n",
              "PUBLISHER    object\n",
              "category       int8\n",
              "dtype: object"
            ]
          },
          "metadata": {
            "tags": []
          },
          "execution_count": 196
        }
      ]
    },
    {
      "cell_type": "code",
      "metadata": {
        "colab": {
          "base_uri": "https://localhost:8080/",
          "height": 254
        },
        "id": "r0korrktmWZv",
        "outputId": "8161c48c-aa76-49ce-9695-2649c9511c51"
      },
      "source": [
        "bin_df.head()"
      ],
      "execution_count": 46,
      "outputs": [
        {
          "output_type": "execute_result",
          "data": {
            "text/html": [
              "<div>\n",
              "<style scoped>\n",
              "    .dataframe tbody tr th:only-of-type {\n",
              "        vertical-align: middle;\n",
              "    }\n",
              "\n",
              "    .dataframe tbody tr th {\n",
              "        vertical-align: top;\n",
              "    }\n",
              "\n",
              "    .dataframe thead th {\n",
              "        text-align: right;\n",
              "    }\n",
              "</style>\n",
              "<table border=\"1\" class=\"dataframe\">\n",
              "  <thead>\n",
              "    <tr style=\"text-align: right;\">\n",
              "      <th></th>\n",
              "      <th>ID</th>\n",
              "      <th>TITLE</th>\n",
              "      <th>URL</th>\n",
              "      <th>PUBLISHER</th>\n",
              "      <th>STORY</th>\n",
              "      <th>category</th>\n",
              "    </tr>\n",
              "  </thead>\n",
              "  <tbody>\n",
              "    <tr>\n",
              "      <th>0</th>\n",
              "      <td>1</td>\n",
              "      <td>Fed official says weak data caused by weather,...</td>\n",
              "      <td>http://www.latimes.com/business/money/la-fi-mo...</td>\n",
              "      <td>Los Angeles Times</td>\n",
              "      <td>ddUyU0VZz0BRneMioxUPQVP6sIxvM</td>\n",
              "      <td>1</td>\n",
              "    </tr>\n",
              "    <tr>\n",
              "      <th>1</th>\n",
              "      <td>2</td>\n",
              "      <td>Fed's Charles Plosser sees high bar for change...</td>\n",
              "      <td>http://www.livemint.com/Politics/H2EvwJSK2VE6O...</td>\n",
              "      <td>Livemint</td>\n",
              "      <td>ddUyU0VZz0BRneMioxUPQVP6sIxvM</td>\n",
              "      <td>1</td>\n",
              "    </tr>\n",
              "    <tr>\n",
              "      <th>2</th>\n",
              "      <td>3</td>\n",
              "      <td>US open: Stocks fall after Fed official hints ...</td>\n",
              "      <td>http://www.ifamagazine.com/news/us-open-stocks...</td>\n",
              "      <td>IFA Magazine</td>\n",
              "      <td>ddUyU0VZz0BRneMioxUPQVP6sIxvM</td>\n",
              "      <td>1</td>\n",
              "    </tr>\n",
              "    <tr>\n",
              "      <th>3</th>\n",
              "      <td>4</td>\n",
              "      <td>Fed risks falling 'behind the curve', Charles ...</td>\n",
              "      <td>http://www.ifamagazine.com/news/fed-risks-fall...</td>\n",
              "      <td>IFA Magazine</td>\n",
              "      <td>ddUyU0VZz0BRneMioxUPQVP6sIxvM</td>\n",
              "      <td>1</td>\n",
              "    </tr>\n",
              "    <tr>\n",
              "      <th>4</th>\n",
              "      <td>5</td>\n",
              "      <td>Fed's Plosser: Nasty Weather Has Curbed Job Gr...</td>\n",
              "      <td>http://www.moneynews.com/Economy/federal-reser...</td>\n",
              "      <td>Moneynews</td>\n",
              "      <td>ddUyU0VZz0BRneMioxUPQVP6sIxvM</td>\n",
              "      <td>1</td>\n",
              "    </tr>\n",
              "  </tbody>\n",
              "</table>\n",
              "</div>"
            ],
            "text/plain": [
              "   ID  ... category\n",
              "0   1  ...        1\n",
              "1   2  ...        1\n",
              "2   3  ...        1\n",
              "3   4  ...        1\n",
              "4   5  ...        1\n",
              "\n",
              "[5 rows x 6 columns]"
            ]
          },
          "metadata": {
            "tags": []
          },
          "execution_count": 46
        }
      ]
    },
    {
      "cell_type": "code",
      "metadata": {
        "colab": {
          "base_uri": "https://localhost:8080/"
        },
        "id": "_ZGpcL06mqGx",
        "outputId": "706609a7-3e73-4bba-f99d-93d7c1a55410"
      },
      "source": [
        "# quite a lot of publishers represented in this dataset\n",
        "bin_df['PUBLISHER'].nunique()"
      ],
      "execution_count": 47,
      "outputs": [
        {
          "output_type": "execute_result",
          "data": {
            "text/plain": [
              "8517"
            ]
          },
          "metadata": {
            "tags": []
          },
          "execution_count": 47
        }
      ]
    },
    {
      "cell_type": "code",
      "metadata": {
        "colab": {
          "base_uri": "https://localhost:8080/"
        },
        "id": "uBBPoCslnGz5",
        "outputId": "1e315bbb-621c-44d2-d4bd-c8fa06583a1c"
      },
      "source": [
        "bin_df['PUBLISHER'].value_counts().sort_values(ascending=False)"
      ],
      "execution_count": 48,
      "outputs": [
        {
          "output_type": "execute_result",
          "data": {
            "text/plain": [
              "Reuters                                                  1491\n",
              "Huffington Post                                          1149\n",
              "Contactmusic.com                                         1029\n",
              "Examiner.com                                              998\n",
              "Los Angeles Times                                         884\n",
              "                                                         ... \n",
              "Waynesville Daily Guide \\(blog\\)                            1\n",
              "Tri-State Neighbor                                          1\n",
              "International Policy Digest                                 1\n",
              "The Tunis Times                                             1\n",
              "JAMA_ The Journal of the American Medical Association       1\n",
              "Name: PUBLISHER, Length: 8517, dtype: int64"
            ]
          },
          "metadata": {
            "tags": []
          },
          "execution_count": 48
        }
      ]
    },
    {
      "cell_type": "code",
      "metadata": {
        "colab": {
          "base_uri": "https://localhost:8080/"
        },
        "id": "RuyvuJiangTg",
        "outputId": "40e4a1dc-8234-4362-a0cf-6afaab2c9b44"
      },
      "source": [
        "# what is a STORY?\n",
        "bin_df['STORY'].nunique()"
      ],
      "execution_count": 49,
      "outputs": [
        {
          "output_type": "execute_result",
          "data": {
            "text/plain": [
              "3070"
            ]
          },
          "metadata": {
            "tags": []
          },
          "execution_count": 49
        }
      ]
    },
    {
      "cell_type": "code",
      "metadata": {
        "colab": {
          "base_uri": "https://localhost:8080/"
        },
        "id": "6OnxTsQIoW64",
        "outputId": "4af7d362-1b28-4bc2-f74c-488ee8e083f6"
      },
      "source": [
        "# A story seems to refer to a specific news event- in this case, a weather event seems to have affected jobs.\n",
        "bin_df[bin_df['STORY']=='ddUyU0VZz0BRneMioxUPQVP6sIxvM']['TITLE']"
      ],
      "execution_count": 50,
      "outputs": [
        {
          "output_type": "execute_result",
          "data": {
            "text/plain": [
              "0    Fed official says weak data caused by weather,...\n",
              "1    Fed's Charles Plosser sees high bar for change...\n",
              "2    US open: Stocks fall after Fed official hints ...\n",
              "3    Fed risks falling 'behind the curve', Charles ...\n",
              "4    Fed's Plosser: Nasty Weather Has Curbed Job Gr...\n",
              "5    Plosser: Fed May Have to Accelerate Tapering Pace\n",
              "6            Fed's Plosser: Taper pace may be too slow\n",
              "7    Fed's Plosser expects US unemployment to fall ...\n",
              "8    US jobs growth last month hit by weather:Fed P...\n",
              "Name: TITLE, dtype: object"
            ]
          },
          "metadata": {
            "tags": []
          },
          "execution_count": 50
        }
      ]
    },
    {
      "cell_type": "code",
      "metadata": {
        "colab": {
          "base_uri": "https://localhost:8080/"
        },
        "id": "XtHGVFDCoW9Z",
        "outputId": "d0c9c2b3-e159-4a9d-ae47-6187a539dee4"
      },
      "source": [
        "# This story has something to do with the euro. There are a few sub-themes: banking, strong euro, bad loans. \n",
        "bin_df[bin_df['STORY']=='dPhGU51DcrolUIMxbRm0InaHGA2XM']['TITLE']"
      ],
      "execution_count": 51,
      "outputs": [
        {
          "output_type": "execute_result",
          "data": {
            "text/plain": [
              "9     ECB unlikely to end sterilisation of SMP purch...\n",
              "10    ECB unlikely to end sterilization of SMP purch...\n",
              "11                EU's half-baked bank union could work\n",
              "12         Europe reaches crunch point on banking union\n",
              "13    ECB FOCUS-Stronger euro drowns out ECB's messa...\n",
              "14           EU aims for deal on tackling failing banks\n",
              "15    Forex - Pound drops to one-month lows against ...\n",
              "16    Noyer Says Strong Euro Creates Unwarranted Eco...\n",
              "17    EU Week Ahead March 10-14: Bank Resolution, Tr...\n",
              "18    ECB member Noyer is 'very open to all kinds of...\n",
              "19    Euro Anxieties Wane as Bunds Top Treasuries, S...\n",
              "20    Noyer Says Strong Euro Creates Unwarranted Eco...\n",
              "21    Noyer Says Stronger Euro Creates Unwarranted P...\n",
              "22    Bad loan triggers key feature in ECB bank test...\n",
              "23    China's trade deficit and structural worries i...\n",
              "24              10 Things You Need To Know This Morning\n",
              "25    ECB's Noyer not Happy With Euro Strength -- Up...\n",
              "26     Eurozone banks' sovereign exposure hits new high\n",
              "27    ECB to reveal bad loan hurdles for euro zone b...\n",
              "28    Forex Market: EUR/USD retreats from 2-1/2-year...\n",
              "29    REFILE-Bad loan triggers key feature in ECB ba...\n",
              "30    UPDATE 1-ECB to reveal bad loan hurdles for eu...\n",
              "31    ECB to reveal bad loan hurdles for euro zone b...\n",
              "32     ECB requires tougher call on bad loan definition\n",
              "33       ECB to reveal bad loan hurdles for bank tests?\n",
              "34    10 Things You Need To Know Before The Opening ...\n",
              "35    Central banks must contain threats from low pr...\n",
              "36    UPDATE 1-Central banks must contain threat fro...\n",
              "37        ECB's Noyer says 'not happy' with euro's rise\n",
              "38     ECB's Noyer: Low inflation may hamper adjustment\n",
              "39    ECB's Christian Noyer says 'not happy' with eu...\n",
              "40    Sterling at one-month low as ECB policy stance...\n",
              "41    EU aims for deal on tackling failing banks nex...\n",
              "42                      Failing banks focus of EU talks\n",
              "43    Business growth in euro zone rises to 32-month...\n",
              "44                             Poking the eurozone bear\n",
              "45    ECB Unlocks Door for Further Euro Strength - W...\n",
              "Name: TITLE, dtype: object"
            ]
          },
          "metadata": {
            "tags": []
          },
          "execution_count": 51
        }
      ]
    },
    {
      "cell_type": "code",
      "metadata": {
        "id": "BGzfGFU1oW_6"
      },
      "source": [
        ""
      ],
      "execution_count": null,
      "outputs": []
    },
    {
      "cell_type": "markdown",
      "metadata": {
        "id": "JwnjXuvWoBgr"
      },
      "source": [
        "# Pre-processing"
      ]
    },
    {
      "cell_type": "code",
      "metadata": {
        "id": "PSYb4xBXxfIC"
      },
      "source": [
        "X_train, X_test, y_train, y_test= train_test_split(bin_df.drop('category',axis=1),bin_df['category'], test_size=0.2, stratify=bin_df['category'] )"
      ],
      "execution_count": 236,
      "outputs": []
    },
    {
      "cell_type": "code",
      "metadata": {
        "id": "Rv-A7Q8GoGPe"
      },
      "source": [
        "\n",
        "# idea: could cut away the publishers with very few counts.  But need to be careful since th publisher name could have keywords eg 'medical journal'"
      ],
      "execution_count": 237,
      "outputs": []
    },
    {
      "cell_type": "code",
      "metadata": {
        "id": "d-Dw4E4jpSJz"
      },
      "source": [
        "# NLP\n",
        "# for title, url and publisher"
      ],
      "execution_count": 238,
      "outputs": []
    },
    {
      "cell_type": "code",
      "metadata": {
        "id": "Qd8dFWzzvVo1"
      },
      "source": [
        "# reference:\n",
        "# STEP 1: convert a text feature into keywords:\n",
        "\n",
        "# Tokenizer is the standard way to prep text data\n",
        "num_words=100000\n",
        "tokenizer=Tokenizer(num_words=num_words)\n"
      ],
      "execution_count": 239,
      "outputs": []
    },
    {
      "cell_type": "code",
      "metadata": {
        "id": "UAjNNEn6vVsR"
      },
      "source": [
        "# I think TITLE should have enough keywords for the tokenizer- URL and publisher are unlikely to have very different keywords\n",
        "#maybe publisher has different keywords?\n",
        "tokenizer.fit_on_texts(X_train['TITLE'])"
      ],
      "execution_count": 240,
      "outputs": []
    },
    {
      "cell_type": "code",
      "metadata": {
        "id": "8KlgbWgrzlt_"
      },
      "source": [
        "X_train['TITLE']=tokenizer.texts_to_sequences(X_train['TITLE'])\n",
        "X_test['TITLE']=tokenizer.texts_to_sequences(X_test['TITLE'])\n",
        "\n",
        "X_train['URL']=tokenizer.texts_to_sequences(X_train['URL'])\n",
        "X_test['URL']=tokenizer.texts_to_sequences(X_test['URL'])\n",
        "\n",
        "X_train['PUBLISHER']=tokenizer.texts_to_sequences(X_train['PUBLISHER'])\n",
        "X_test['PUBLISHER']=tokenizer.texts_to_sequences(X_test['PUBLISHER'])\n",
        "\n"
      ],
      "execution_count": 241,
      "outputs": []
    },
    {
      "cell_type": "code",
      "metadata": {
        "id": "cVRokezb9Bd8"
      },
      "source": [
        "# pad the sequences, assuming 80 word max for a TITLE, and 20 for url and 10 for publisher\n",
        "X_train['TITLE']=pad_sequences(X_train['TITLE'],maxlen=80).tolist()\n",
        "X_test['TITLE']=pad_sequences(X_test['TITLE'],maxlen=80).tolist()\n",
        "\n",
        "X_train['URL']=pad_sequences(X_train['URL'],maxlen=20).tolist()\n",
        "X_test['URL']=pad_sequences(X_test['URL'],maxlen=20).tolist()\n",
        "\n",
        "X_train['PUBLISHER']=pad_sequences(X_train['PUBLISHER'],maxlen=10).tolist()\n",
        "X_test['PUBLISHER']=pad_sequences(X_test['PUBLISHER'],maxlen=10).tolist()"
      ],
      "execution_count": 242,
      "outputs": []
    },
    {
      "cell_type": "code",
      "metadata": {
        "colab": {
          "base_uri": "https://localhost:8080/",
          "height": 415
        },
        "id": "gMn6ym0UH9Mk",
        "outputId": "9a92a874-1eec-4eaf-c060-ba4ee73022be"
      },
      "source": [
        "X_train"
      ],
      "execution_count": 243,
      "outputs": [
        {
          "output_type": "execute_result",
          "data": {
            "text/html": [
              "<div>\n",
              "<style scoped>\n",
              "    .dataframe tbody tr th:only-of-type {\n",
              "        vertical-align: middle;\n",
              "    }\n",
              "\n",
              "    .dataframe tbody tr th {\n",
              "        vertical-align: top;\n",
              "    }\n",
              "\n",
              "    .dataframe thead th {\n",
              "        text-align: right;\n",
              "    }\n",
              "</style>\n",
              "<table border=\"1\" class=\"dataframe\">\n",
              "  <thead>\n",
              "    <tr style=\"text-align: right;\">\n",
              "      <th></th>\n",
              "      <th>TITLE</th>\n",
              "      <th>URL</th>\n",
              "      <th>PUBLISHER</th>\n",
              "    </tr>\n",
              "  </thead>\n",
              "  <tbody>\n",
              "    <tr>\n",
              "      <th>37198</th>\n",
              "      <td>[0, 0, 0, 0, 0, 0, 0, 0, 0, 0, 0, 0, 0, 0, 0, ...</td>\n",
              "      <td>[0, 0, 729, 428, 19918, 221, 130, 131, 3370, 6...</td>\n",
              "      <td>[0, 0, 0, 0, 0, 0, 19918, 18903, 1559, 75]</td>\n",
              "    </tr>\n",
              "    <tr>\n",
              "      <th>102574</th>\n",
              "      <td>[0, 0, 0, 0, 0, 0, 0, 0, 0, 0, 0, 0, 0, 0, 0, ...</td>\n",
              "      <td>[0, 0, 0, 0, 729, 428, 221, 3917, 1131, 527, 1...</td>\n",
              "      <td>[0, 0, 0, 0, 0, 0, 0, 0, 0, 1241]</td>\n",
              "    </tr>\n",
              "    <tr>\n",
              "      <th>40205</th>\n",
              "      <td>[0, 0, 0, 0, 0, 0, 0, 0, 0, 0, 0, 0, 0, 0, 0, ...</td>\n",
              "      <td>[0, 0, 0, 0, 0, 0, 0, 0, 0, 729, 428, 221, 185...</td>\n",
              "      <td>[0, 0, 0, 0, 0, 0, 0, 0, 0, 221]</td>\n",
              "    </tr>\n",
              "    <tr>\n",
              "      <th>92500</th>\n",
              "      <td>[0, 0, 0, 0, 0, 0, 0, 0, 0, 0, 0, 0, 0, 0, 0, ...</td>\n",
              "      <td>[0, 0, 0, 0, 729, 428, 221, 20, 1885, 7191, 17...</td>\n",
              "      <td>[0, 0, 0, 0, 0, 0, 0, 0, 21604, 609]</td>\n",
              "    </tr>\n",
              "    <tr>\n",
              "      <th>59509</th>\n",
              "      <td>[0, 0, 0, 0, 0, 0, 0, 0, 0, 0, 0, 0, 0, 0, 0, ...</td>\n",
              "      <td>[0, 0, 0, 0, 0, 0, 0, 0, 0, 729, 428, 75, 8491...</td>\n",
              "      <td>[0, 0, 0, 0, 0, 0, 0, 0, 0, 0]</td>\n",
              "    </tr>\n",
              "    <tr>\n",
              "      <th>...</th>\n",
              "      <td>...</td>\n",
              "      <td>...</td>\n",
              "      <td>...</td>\n",
              "    </tr>\n",
              "    <tr>\n",
              "      <th>172299</th>\n",
              "      <td>[0, 0, 0, 0, 0, 0, 0, 0, 0, 0, 0, 0, 0, 0, 0, ...</td>\n",
              "      <td>[0, 0, 0, 0, 0, 729, 428, 221, 769, 1131, 7, 4...</td>\n",
              "      <td>[0, 0, 0, 0, 0, 0, 0, 0, 0, 13909]</td>\n",
              "    </tr>\n",
              "    <tr>\n",
              "      <th>77585</th>\n",
              "      <td>[0, 0, 0, 0, 0, 0, 0, 0, 0, 0, 0, 0, 0, 0, 0, ...</td>\n",
              "      <td>[0, 0, 0, 729, 428, 10066, 221, 3604, 664, 147...</td>\n",
              "      <td>[0, 0, 0, 0, 0, 0, 0, 0, 10066, 221]</td>\n",
              "    </tr>\n",
              "    <tr>\n",
              "      <th>100433</th>\n",
              "      <td>[0, 0, 0, 0, 0, 0, 0, 0, 0, 0, 0, 0, 0, 0, 0, ...</td>\n",
              "      <td>[0, 0, 0, 0, 0, 0, 729, 3, 10, 4650, 149, 1, 2...</td>\n",
              "      <td>[0, 0, 0, 0, 0, 0, 0, 139, 1348, 4720]</td>\n",
              "    </tr>\n",
              "    <tr>\n",
              "      <th>64179</th>\n",
              "      <td>[0, 0, 0, 0, 0, 0, 0, 0, 0, 0, 0, 0, 0, 0, 0, ...</td>\n",
              "      <td>[0, 0, 0, 0, 0, 0, 729, 221, 10296, 20, 2737, ...</td>\n",
              "      <td>[0, 0, 0, 0, 0, 0, 0, 0, 0, 911]</td>\n",
              "    </tr>\n",
              "    <tr>\n",
              "      <th>157212</th>\n",
              "      <td>[0, 0, 0, 0, 0, 0, 0, 0, 0, 0, 0, 0, 0, 0, 0, ...</td>\n",
              "      <td>[0, 0, 0, 0, 0, 0, 0, 0, 0, 0, 0, 729, 221, 75...</td>\n",
              "      <td>[0, 0, 0, 0, 0, 0, 0, 0, 0, 0]</td>\n",
              "    </tr>\n",
              "  </tbody>\n",
              "</table>\n",
              "<p>138067 rows × 3 columns</p>\n",
              "</div>"
            ],
            "text/plain": [
              "                                                    TITLE  ...                                   PUBLISHER\n",
              "37198   [0, 0, 0, 0, 0, 0, 0, 0, 0, 0, 0, 0, 0, 0, 0, ...  ...  [0, 0, 0, 0, 0, 0, 19918, 18903, 1559, 75]\n",
              "102574  [0, 0, 0, 0, 0, 0, 0, 0, 0, 0, 0, 0, 0, 0, 0, ...  ...           [0, 0, 0, 0, 0, 0, 0, 0, 0, 1241]\n",
              "40205   [0, 0, 0, 0, 0, 0, 0, 0, 0, 0, 0, 0, 0, 0, 0, ...  ...            [0, 0, 0, 0, 0, 0, 0, 0, 0, 221]\n",
              "92500   [0, 0, 0, 0, 0, 0, 0, 0, 0, 0, 0, 0, 0, 0, 0, ...  ...        [0, 0, 0, 0, 0, 0, 0, 0, 21604, 609]\n",
              "59509   [0, 0, 0, 0, 0, 0, 0, 0, 0, 0, 0, 0, 0, 0, 0, ...  ...              [0, 0, 0, 0, 0, 0, 0, 0, 0, 0]\n",
              "...                                                   ...  ...                                         ...\n",
              "172299  [0, 0, 0, 0, 0, 0, 0, 0, 0, 0, 0, 0, 0, 0, 0, ...  ...          [0, 0, 0, 0, 0, 0, 0, 0, 0, 13909]\n",
              "77585   [0, 0, 0, 0, 0, 0, 0, 0, 0, 0, 0, 0, 0, 0, 0, ...  ...        [0, 0, 0, 0, 0, 0, 0, 0, 10066, 221]\n",
              "100433  [0, 0, 0, 0, 0, 0, 0, 0, 0, 0, 0, 0, 0, 0, 0, ...  ...      [0, 0, 0, 0, 0, 0, 0, 139, 1348, 4720]\n",
              "64179   [0, 0, 0, 0, 0, 0, 0, 0, 0, 0, 0, 0, 0, 0, 0, ...  ...            [0, 0, 0, 0, 0, 0, 0, 0, 0, 911]\n",
              "157212  [0, 0, 0, 0, 0, 0, 0, 0, 0, 0, 0, 0, 0, 0, 0, ...  ...              [0, 0, 0, 0, 0, 0, 0, 0, 0, 0]\n",
              "\n",
              "[138067 rows x 3 columns]"
            ]
          },
          "metadata": {
            "tags": []
          },
          "execution_count": 243
        }
      ]
    },
    {
      "cell_type": "code",
      "metadata": {
        "id": "miaSNp8sH9Px"
      },
      "source": [
        ""
      ],
      "execution_count": null,
      "outputs": []
    },
    {
      "cell_type": "markdown",
      "metadata": {
        "id": "DQB8g6AGoCEB"
      },
      "source": [
        "# Neural Nets Model"
      ]
    },
    {
      "cell_type": "code",
      "metadata": {
        "id": "rC1wvUeFoV9g"
      },
      "source": [
        ""
      ],
      "execution_count": null,
      "outputs": []
    }
  ]
}